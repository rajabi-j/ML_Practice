{
  "nbformat": 4,
  "nbformat_minor": 0,
  "metadata": {
    "colab": {
      "provenance": [],
      "collapsed_sections": [],
      "authorship_tag": "ABX9TyPkbRHDDQHtGP+FlNFXu6jR",
      "include_colab_link": true
    },
    "kernelspec": {
      "name": "python3",
      "display_name": "Python 3"
    },
    "language_info": {
      "name": "python"
    }
  },
  "cells": [
    {
      "cell_type": "markdown",
      "metadata": {
        "id": "view-in-github",
        "colab_type": "text"
      },
      "source": [
        "<a href=\"https://colab.research.google.com/github/rajabi-j/ML_Practice/blob/main/NumPy_Practice_1.ipynb\" target=\"_parent\"><img src=\"https://colab.research.google.com/assets/colab-badge.svg\" alt=\"Open In Colab\"/></a>"
      ]
    },
    {
      "cell_type": "markdown",
      "source": [
        "### Import of libraries"
      ],
      "metadata": {
        "id": "tJVA18weOi1t"
      }
    },
    {
      "cell_type": "code",
      "execution_count": null,
      "metadata": {
        "colab": {
          "base_uri": "https://localhost:8080/",
          "height": 36
        },
        "id": "1N_xCx_5MpQC",
        "outputId": "4b369170-bbe7-444a-dae5-0b17af9acc35"
      },
      "outputs": [
        {
          "output_type": "execute_result",
          "data": {
            "text/plain": [
              "'1.21.6'"
            ],
            "application/vnd.google.colaboratory.intrinsic+json": {
              "type": "string"
            }
          },
          "metadata": {},
          "execution_count": 1
        }
      ],
      "source": [
        "import numpy as np\n",
        "\n",
        "np.__version__"
      ]
    },
    {
      "cell_type": "markdown",
      "source": [
        "### np.all()\n",
        "\n",
        "Test whether all array elements along a given axis evaluate to True.\n",
        "\n",
        "Check if all array elements $ A, B, C $ and $ D $ return the logical value _True_.\n",
        "\n",
        "```\n",
        "A = np.array([[3, 2, 1, 4],\n",
        "              [5, 2, 1, 6]])\n",
        "\n",
        "B = np.array([[3, 2, 1, 4],\n",
        "              [5, 2, 0, 6]])\n",
        "\n",
        "C = np.array([[True, False, False],\n",
        "              [True, True, True]])\n",
        "\n",
        "D = np.array([0.1, 0.3])\n",
        "```"
      ],
      "metadata": {
        "id": "n81rZNhNPUGO"
      }
    },
    {
      "cell_type": "code",
      "source": [
        "A = np.array([[3, 2, 1, 4],\n",
        "              [5, 2, 1, 6]])\n",
        "\n",
        "B = np.array([[3, 2, 1, 4],\n",
        "              [5, 2, 0, 6]])\n",
        "\n",
        "C = np.array([[True, False, False],\n",
        "              [True, True, True]])\n",
        "\n",
        "D = np.array([0.1, 0.3])\n",
        "\n",
        "for name, array in zip(list('ABCD'), [A, B, C, D]):\n",
        "    print(f'{name}: {np.all(array)}')"
      ],
      "metadata": {
        "colab": {
          "base_uri": "https://localhost:8080/"
        },
        "id": "G-qfjQ0oPT3V",
        "outputId": "6d7f320c-a8ae-4d22-d57f-c5483cb9ac78"
      },
      "execution_count": null,
      "outputs": [
        {
          "output_type": "stream",
          "name": "stdout",
          "text": [
            "A: True\n",
            "B: False\n",
            "C: False\n",
            "D: True\n"
          ]
        }
      ]
    },
    {
      "cell_type": "markdown",
      "source": [
        "### np.all() with the parameter axis\n",
        "\n",
        "Check if all array elements $ A, B $ and $ C $ return the logical value _True_ along the axis with index 1.\n",
        "\n",
        "```\n",
        "A = np.array([[3, 2, 1, 4],\n",
        "              [5, 2, 1, 6]])\n",
        "\n",
        "B = np.array([[3, 2, 1, 4],\n",
        "              [5, 2, 0, 6]])\n",
        "\n",
        "C = np.array([[True, False, False],\n",
        "              [True, True, True]])\n",
        "```"
      ],
      "metadata": {
        "id": "vInywsGmQ3pG"
      }
    },
    {
      "cell_type": "code",
      "source": [
        "A = np.array([[3, 2, 1, 4],\n",
        "              [5, 2, 1, 6]])\n",
        "\n",
        "B = np.array([[3, 2, 1, 4],\n",
        "              [5, 2, 0, 6]])\n",
        "\n",
        "C = np.array([[True, False, False],\n",
        "              [True, True, True]])\n",
        "\n",
        "for name, array in zip(list('ABC'), [A, B, C]):\n",
        "    print(f'{name}: {np.all(array, axis=1)}')"
      ],
      "metadata": {
        "colab": {
          "base_uri": "https://localhost:8080/"
        },
        "id": "qXYOm169OuJp",
        "outputId": "60032654-ab38-41dc-919a-35254634dc66"
      },
      "execution_count": null,
      "outputs": [
        {
          "output_type": "stream",
          "name": "stdout",
          "text": [
            "A: [ True  True]\n",
            "B: [ True False]\n",
            "C: [False  True]\n"
          ]
        }
      ]
    },
    {
      "cell_type": "markdown",
      "source": [
        "### np.any()\n",
        "\n",
        "Test whether any array element along a given axis evaluates to True.\n",
        "\n",
        "Check if any element of arrays $ A, B, C $ and $ D $ returns the logical value _True_.\n",
        "\n",
        "```\n",
        "A = np.array([[0, 0, 0],\n",
        "              [0, 0, 0]])\n",
        "\n",
        "B = np.array([[0, 0, 0],\n",
        "              [0, 1, 0]])\n",
        "\n",
        "C = np.array([[False, False, False],\n",
        "              [True, False, False]])\n",
        "\n",
        "D = np.array([[0.1, 0.0]])\n",
        "```"
      ],
      "metadata": {
        "id": "Uyq-kayEVsAm"
      }
    },
    {
      "cell_type": "code",
      "source": [
        "A = np.array([[0, 0, 0],\n",
        "              [0, 0, 0]])\n",
        "\n",
        "B = np.array([[0, 0, 0],\n",
        "              [0, 1, 0]])\n",
        "\n",
        "C = np.array([[False, False, False],\n",
        "              [True, False, False]])\n",
        "\n",
        "D = np.array([[0.1, 0.0]])\n",
        "\n",
        "for name, array in zip(list('ABCD'), [A, B, C, D]):\n",
        "    print(f'{name}: {np.any(array)}')"
      ],
      "metadata": {
        "colab": {
          "base_uri": "https://localhost:8080/"
        },
        "id": "WORiPpxJVrvv",
        "outputId": "a433232f-c700-47a0-d385-2b0bfd5d27bb"
      },
      "execution_count": null,
      "outputs": [
        {
          "output_type": "stream",
          "name": "stdout",
          "text": [
            "A: False\n",
            "B: True\n",
            "C: True\n",
            "D: True\n"
          ]
        }
      ]
    },
    {
      "cell_type": "markdown",
      "source": [
        "### np.any() with the parameter axis\n",
        "\n",
        "Check if any element of arrays $ A, B, C $ and $ D $ returns the logical value _True_ along the axis with index 0.\n",
        "\n",
        "```\n",
        "A = np.array([[0, 0, 0],\n",
        "              [0, 0, 0]])\n",
        "\n",
        "B = np.array([[0, 0, 0],\n",
        "              [0, 1, 0]])\n",
        "\n",
        "C = np.array([[False, False, False],\n",
        "              [True, False, False]])\n",
        "\n",
        "D = np.array([[0.1, 0.0]])\n",
        "```"
      ],
      "metadata": {
        "id": "vd4oZvHBWZK_"
      }
    },
    {
      "cell_type": "code",
      "source": [
        "A = np.array([[0, 0, 0],\n",
        "              [0, 0, 0]])\n",
        "\n",
        "B = np.array([[0, 0, 0],\n",
        "              [0, 1, 0]])\n",
        "\n",
        "C = np.array([[False, False, False],\n",
        "              [True, False, False]])\n",
        "\n",
        "D = np.array([[0.1, 0.0]])\n",
        "\n",
        "for name, array in zip(list('ABCD'), [A, B, C, D]):\n",
        "    print(f'{name}: {np.any(array, axis=0)}')"
      ],
      "metadata": {
        "colab": {
          "base_uri": "https://localhost:8080/"
        },
        "id": "7xRvWDoCWYop",
        "outputId": "b35c8759-42f8-4c3f-873a-72aa76ae7b44"
      },
      "execution_count": null,
      "outputs": [
        {
          "output_type": "stream",
          "name": "stdout",
          "text": [
            "A: [False False False]\n",
            "B: [False  True False]\n",
            "C: [ True False False]\n",
            "D: [ True False]\n"
          ]
        }
      ]
    },
    {
      "cell_type": "markdown",
      "source": [
        "### np.isnan() \n",
        "\n",
        "Test element-wise for NaN and return result as a boolean array.\n",
        "\n",
        "Check the array $ A $ for missing data (_np.nan_).\n",
        "\n",
        "```\n",
        "A = np.array([[3, 2, 1, np.nan],\n",
        "              [5, np.nan, 1, 6]])\n",
        "```"
      ],
      "metadata": {
        "id": "tCQC5yLUW7-o"
      }
    },
    {
      "cell_type": "code",
      "source": [
        "A = np.array([[3, 2, 1, np.nan],\n",
        "              [5, np.nan, 1, 6]])\n",
        "\n",
        "np.isnan(A)"
      ],
      "metadata": {
        "colab": {
          "base_uri": "https://localhost:8080/"
        },
        "id": "AJoY1BWsRDCw",
        "outputId": "d3541c09-1e60-4d54-e227-23f0c587b87a"
      },
      "execution_count": null,
      "outputs": [
        {
          "output_type": "execute_result",
          "data": {
            "text/plain": [
              "array([[False, False, False,  True],\n",
              "       [False,  True, False, False]])"
            ]
          },
          "metadata": {},
          "execution_count": 5
        }
      ]
    },
    {
      "cell_type": "markdown",
      "source": [
        "### np.allclose()\n",
        "\n",
        "Returns True if two arrays are element-wise equal within a tolerance.\n",
        "\n",
        "Check if the following arrays $ A $ and $ B $ are equal in terms of elements (element-wise) with the specified tolerance level. Use the _np.allclose()_ function with default parameters.\n",
        "\n",
        "```\n",
        "A = np.array([0.4, 0.5, 0.3])\n",
        "B = np.array([0.39999999, 0.5000001, 0.3])\n",
        "```"
      ],
      "metadata": {
        "id": "ej4AnLU4XaEJ"
      }
    },
    {
      "cell_type": "code",
      "source": [
        "A = np.array([0.4, 0.5, 0.3])\n",
        "B = np.array([0.39999999, 0.5000001, 0.3])\n",
        "\n",
        "np.allclose(A, B)"
      ],
      "metadata": {
        "colab": {
          "base_uri": "https://localhost:8080/"
        },
        "id": "wArlw0cKXLR0",
        "outputId": "6c4f8dca-332e-452b-ad38-a65a8732e449"
      },
      "execution_count": null,
      "outputs": [
        {
          "output_type": "execute_result",
          "data": {
            "text/plain": [
              "True"
            ]
          },
          "metadata": {},
          "execution_count": 6
        }
      ]
    },
    {
      "cell_type": "markdown",
      "source": [
        "### == and np.equal()\n",
        "\n",
        "Check if the following arrays $ A $ and $ B $ are equal in terms of elements (element-wise). Use the comparison operator _==_.\n",
        "\n",
        "```\n",
        "A = np.array([0.4, 0.5, 0.3])\n",
        "B = np.array([0.3999999999, 0.5000000001, 0.3])\n",
        "```"
      ],
      "metadata": {
        "id": "pg9wub57X1Qg"
      }
    },
    {
      "cell_type": "code",
      "source": [
        "A = np.array([0.4, 0.5, 0.3])\n",
        "B = np.array([0.3999999999, 0.5000000001, 0.3])\n",
        "\n",
        "# Solution 1\n",
        "A == B"
      ],
      "metadata": {
        "colab": {
          "base_uri": "https://localhost:8080/"
        },
        "id": "85UHKJM8Xrev",
        "outputId": "1ff7c272-1da4-49b4-c7f5-e4f286b97371"
      },
      "execution_count": null,
      "outputs": [
        {
          "output_type": "execute_result",
          "data": {
            "text/plain": [
              "array([False, False,  True])"
            ]
          },
          "metadata": {},
          "execution_count": 7
        }
      ]
    },
    {
      "cell_type": "code",
      "source": [
        "# Solution 2\n",
        "np.equal(A, B)"
      ],
      "metadata": {
        "colab": {
          "base_uri": "https://localhost:8080/"
        },
        "id": "jf68fdCPYDbu",
        "outputId": "4d99ff6f-29f8-4ff4-cb2e-b68a2a06aea8"
      },
      "execution_count": null,
      "outputs": [
        {
          "output_type": "execute_result",
          "data": {
            "text/plain": [
              "array([False, False,  True])"
            ]
          },
          "metadata": {},
          "execution_count": 8
        }
      ]
    },
    {
      "cell_type": "markdown",
      "source": [
        "### > and np.greater()\n",
        "\n",
        "Check which elements (element-wise) from the array $ A $ below have higher values than the array $ B $.\n",
        "\n",
        "```\n",
        "A = np.array([0.4, 0.5, 0.3, 0.9])\n",
        "B = np.array([0.38, 0.51, 0.3, 0.91])\n",
        "```"
      ],
      "metadata": {
        "id": "joHk7fgHYXD3"
      }
    },
    {
      "cell_type": "code",
      "source": [
        "A = np.array([0.4, 0.5, 0.3, 0.9])\n",
        "B = np.array([0.38, 0.51, 0.3, 0.91])\n",
        "\n",
        "# Solution 1\n",
        "A > B"
      ],
      "metadata": {
        "colab": {
          "base_uri": "https://localhost:8080/"
        },
        "id": "AlBvOmyEYRU7",
        "outputId": "251e8508-7d26-43c3-b7bd-409b79d4ed8a"
      },
      "execution_count": null,
      "outputs": [
        {
          "output_type": "execute_result",
          "data": {
            "text/plain": [
              "array([ True, False, False, False])"
            ]
          },
          "metadata": {},
          "execution_count": 9
        }
      ]
    },
    {
      "cell_type": "code",
      "source": [
        "# Solution 2\n",
        "np.greater(A, B)"
      ],
      "metadata": {
        "colab": {
          "base_uri": "https://localhost:8080/"
        },
        "id": "bIgTwx8uYkS_",
        "outputId": "7f889f42-8704-42e3-a56f-21899035f2bf"
      },
      "execution_count": null,
      "outputs": [
        {
          "output_type": "execute_result",
          "data": {
            "text/plain": [
              "array([ True, False, False, False])"
            ]
          },
          "metadata": {},
          "execution_count": 10
        }
      ]
    },
    {
      "cell_type": "markdown",
      "source": [
        "### np.zeros()\n",
        "\n",
        "Return a new array of given shape and type, filled with zeros.\n",
        "\n",
        "Create an array of numpy dimensions _4x4_ filled with zeros. Set the data type to _int_.\n",
        "\n",
        "__Expected result:__\n",
        "\n",
        "```\n",
        "array([[0, 0, 0, 0],\n",
        "       [0, 0, 0, 0],\n",
        "       [0, 0, 0, 0],\n",
        "       [0, 0, 0, 0]])\n",
        "```"
      ],
      "metadata": {
        "id": "HgUMKcCpYyFp"
      }
    },
    {
      "cell_type": "code",
      "source": [
        "np.zeros(shape=(4, 4), dtype='int')"
      ],
      "metadata": {
        "colab": {
          "base_uri": "https://localhost:8080/"
        },
        "id": "V418WL0DYmgc",
        "outputId": "818a453a-36e9-49dc-a3ce-96648a0cf86f"
      },
      "execution_count": null,
      "outputs": [
        {
          "output_type": "execute_result",
          "data": {
            "text/plain": [
              "array([[0, 0, 0, 0],\n",
              "       [0, 0, 0, 0],\n",
              "       [0, 0, 0, 0],\n",
              "       [0, 0, 0, 0]])"
            ]
          },
          "metadata": {},
          "execution_count": 11
        }
      ]
    },
    {
      "cell_type": "markdown",
      "source": [
        "### np.ones() and np.full()\n",
        "\n",
        "np.one() return a new array of given shape and type, filled with ones.\n",
        "\n",
        "np.full() return a new array of given shape and type, filled with fill_value.\n",
        "\n",
        "Create an array of numpy dimensions _4x6_ filled with number 255. Set the data type to _float_.\n",
        "\n",
        "__Expected result:__\n",
        "```\n",
        "array([[255., 255., 255., 255., 255., 255.],\n",
        "       [255., 255., 255., 255., 255., 255.],\n",
        "       [255., 255., 255., 255., 255., 255.],\n",
        "       [255., 255., 255., 255., 255., 255.]])\n",
        "```"
      ],
      "metadata": {
        "id": "8BXyZ2iKZWkx"
      }
    },
    {
      "cell_type": "code",
      "source": [
        "# Solution 1\n",
        "np.ones(shape=(4, 6), dtype='float') * 255"
      ],
      "metadata": {
        "colab": {
          "base_uri": "https://localhost:8080/"
        },
        "id": "hjj0WVRQY7Ww",
        "outputId": "c749790a-d0cf-4812-b47d-146970569de7"
      },
      "execution_count": null,
      "outputs": [
        {
          "output_type": "execute_result",
          "data": {
            "text/plain": [
              "array([[255., 255., 255., 255., 255., 255.],\n",
              "       [255., 255., 255., 255., 255., 255.],\n",
              "       [255., 255., 255., 255., 255., 255.],\n",
              "       [255., 255., 255., 255., 255., 255.]])"
            ]
          },
          "metadata": {},
          "execution_count": 12
        }
      ]
    },
    {
      "cell_type": "code",
      "source": [
        "# Solution 2\n",
        "np.full(shape=(4, 6), fill_value=255, dtype='float')"
      ],
      "metadata": {
        "colab": {
          "base_uri": "https://localhost:8080/"
        },
        "id": "1Mr4-NULZKpC",
        "outputId": "b389391a-753f-459e-8d93-54f496262e71"
      },
      "execution_count": null,
      "outputs": [
        {
          "output_type": "execute_result",
          "data": {
            "text/plain": [
              "array([[255., 255., 255., 255., 255., 255.],\n",
              "       [255., 255., 255., 255., 255., 255.],\n",
              "       [255., 255., 255., 255., 255., 255.],\n",
              "       [255., 255., 255., 255., 255., 255.]])"
            ]
          },
          "metadata": {},
          "execution_count": 13
        }
      ]
    },
    {
      "cell_type": "markdown",
      "source": [
        "### np.arange()\n",
        "\n",
        "Return evenly spaced values within a given interval.\n",
        "\n",
        "Build a one-dimensional numpy array of two-digit numbers from 10 to 30.\n",
        "\n",
        "__Expected result:__\n",
        "```\n",
        "array([10, 11, 12, 13, 14, 15, 16, 17, 18, 19, 20, 21, 22, 23, 24, 25, 26,\n",
        "       27, 28, 29, 30])\n",
        "```"
      ],
      "metadata": {
        "id": "rLp4nY-__EIu"
      }
    },
    {
      "cell_type": "code",
      "source": [
        "np.arange(10, 31)"
      ],
      "metadata": {
        "id": "h8fBPYoj_D6u",
        "colab": {
          "base_uri": "https://localhost:8080/"
        },
        "outputId": "b10c5418-a4fb-4691-f6a1-9e8efabda60b"
      },
      "execution_count": null,
      "outputs": [
        {
          "output_type": "execute_result",
          "data": {
            "text/plain": [
              "array([10, 11, 12, 13, 14, 15, 16, 17, 18, 19, 20, 21, 22, 23, 24, 25, 26,\n",
              "       27, 28, 29, 30])"
            ]
          },
          "metadata": {},
          "execution_count": 2
        }
      ]
    },
    {
      "cell_type": "markdown",
      "source": [
        "### np.ndarray.reshape()\n",
        "\n",
        "Returns an array containing the same data with a new shape.\n",
        "\n",
        "Build the numpy array specified below:\n",
        "\n",
        "```\n",
        "array([[11, 12, 13, 14, 15],\n",
        "       [16, 17, 18, 19, 20],\n",
        "       [21, 22, 23, 24, 25],\n",
        "       [26, 27, 28, 29, 30]])\n",
        "```\n",
        "\n",
        "Note that the shape of the array is (4, 5)."
      ],
      "metadata": {
        "id": "b_4z_CaRAisX"
      }
    },
    {
      "cell_type": "code",
      "source": [
        "# Solution 1\n",
        "np.arange(11, 31).reshape(-1, 5)"
      ],
      "metadata": {
        "id": "TA4J_EO-ZioL",
        "colab": {
          "base_uri": "https://localhost:8080/"
        },
        "outputId": "11e604f3-5e81-47ba-d9b8-b71ddff5ac09"
      },
      "execution_count": null,
      "outputs": [
        {
          "output_type": "execute_result",
          "data": {
            "text/plain": [
              "array([[11, 12, 13, 14, 15],\n",
              "       [16, 17, 18, 19, 20],\n",
              "       [21, 22, 23, 24, 25],\n",
              "       [26, 27, 28, 29, 30]])"
            ]
          },
          "metadata": {},
          "execution_count": 3
        }
      ]
    },
    {
      "cell_type": "code",
      "source": [
        "# Solution 2\n",
        "np.arange(11, 31).reshape(4, 5)"
      ],
      "metadata": {
        "colab": {
          "base_uri": "https://localhost:8080/"
        },
        "id": "XDK5l-RwBHRV",
        "outputId": "e1429771-1d67-439a-b3fc-aaf604b39bd8"
      },
      "execution_count": null,
      "outputs": [
        {
          "output_type": "execute_result",
          "data": {
            "text/plain": [
              "array([[11, 12, 13, 14, 15],\n",
              "       [16, 17, 18, 19, 20],\n",
              "       [21, 22, 23, 24, 25],\n",
              "       [26, 27, 28, 29, 30]])"
            ]
          },
          "metadata": {},
          "execution_count": 4
        }
      ]
    },
    {
      "cell_type": "markdown",
      "source": [
        "### np.eye()\n",
        "\n",
        "Return a 2-D array with ones on the diagonal and zeros elsewhere.\n",
        "\n",
        "Build a _4x4_ two-dimensional array - identity matrix. Use the _int_ data type.\n",
        "\n",
        "__Expected result:__\n",
        "\n",
        "```\n",
        "array([[1, 0, 0, 0],\n",
        "       [0, 1, 0, 0],\n",
        "       [0, 0, 1, 0],\n",
        "       [0, 0, 0, 1]])\n",
        "```"
      ],
      "metadata": {
        "id": "-mXC0d2ABZQl"
      }
    },
    {
      "cell_type": "code",
      "source": [
        "np.eye(N=4, dtype='int')"
      ],
      "metadata": {
        "colab": {
          "base_uri": "https://localhost:8080/"
        },
        "id": "u9BtCgk_BMSQ",
        "outputId": "68fce0cb-d00e-4be9-b96f-47557cdce735"
      },
      "execution_count": null,
      "outputs": [
        {
          "output_type": "execute_result",
          "data": {
            "text/plain": [
              "array([[1, 0, 0, 0],\n",
              "       [0, 1, 0, 0],\n",
              "       [0, 0, 1, 0],\n",
              "       [0, 0, 0, 1]])"
            ]
          },
          "metadata": {},
          "execution_count": 5
        }
      ]
    },
    {
      "cell_type": "markdown",
      "source": [
        "### np.random.rand()\n",
        "\n",
        "Create an array of the given shape and populate it with random samples from a uniform distribution over [0, 1).\n",
        "\n",
        "Set the random seed to 10. Then build a one-dimensional array consisting of 20 pseudo-randomly generated values from the uniform distribution above the $ [0, 1) $ interval.\n",
        "\n",
        "__Expected result:__\n",
        "\n",
        "```\n",
        "array([0.77132064, 0.02075195, 0.63364823, 0.74880388, 0.49850701,\n",
        "       0.22479665, 0.19806286, 0.76053071, 0.16911084, 0.08833981,\n",
        "       0.68535982, 0.95339335, 0.00394827, 0.51219226, 0.81262096,\n",
        "       0.61252607, 0.72175532, 0.29187607, 0.91777412, 0.71457578])\n",
        "```"
      ],
      "metadata": {
        "id": "0XWM2fB0CDKG"
      }
    },
    {
      "cell_type": "code",
      "source": [
        "np.random.seed(10)\n",
        "np.random.rand(20)"
      ],
      "metadata": {
        "colab": {
          "base_uri": "https://localhost:8080/"
        },
        "id": "FkL4TiKKBrxz",
        "outputId": "c7ddd939-0518-413a-908c-0e18245cec39"
      },
      "execution_count": null,
      "outputs": [
        {
          "output_type": "execute_result",
          "data": {
            "text/plain": [
              "array([0.77132064, 0.02075195, 0.63364823, 0.74880388, 0.49850701,\n",
              "       0.22479665, 0.19806286, 0.76053071, 0.16911084, 0.08833981,\n",
              "       0.68535982, 0.95339335, 0.00394827, 0.51219226, 0.81262096,\n",
              "       0.61252607, 0.72175532, 0.29187607, 0.91777412, 0.71457578])"
            ]
          },
          "metadata": {},
          "execution_count": 6
        }
      ]
    },
    {
      "cell_type": "markdown",
      "source": [
        "### np.random.randn()\n",
        "\n",
        "Return a sample (or samples) from the “standard normal” distribution.\n",
        "\n",
        "Set the random seed to 20. Then build a two-dimensional array with the shape _(5, 4)_ pseudo-random values generated from the standard normal distribution $ N (0, 1) $.\n",
        "\n",
        "__Expected result:__\n",
        "```\n",
        "array([[ 0.88389311,  0.19586502,  0.35753652, -2.34326191],\n",
        "       [-1.08483259,  0.55969629,  0.93946935, -0.97848104],\n",
        "       [ 0.50309684,  0.40641447,  0.32346101, -0.49341088],\n",
        "       [-0.79201679, -0.84236793, -1.27950266,  0.24571517],\n",
        "       [-0.0441948 ,  1.56763255,  1.05110868,  0.40636843]])\n",
        "```"
      ],
      "metadata": {
        "id": "FNQ92RevCq7M"
      }
    },
    {
      "cell_type": "code",
      "source": [
        "np.random.seed(20)\n",
        "np.random.randn(5, 4)"
      ],
      "metadata": {
        "colab": {
          "base_uri": "https://localhost:8080/"
        },
        "id": "PodiYTyeCg-q",
        "outputId": "54f240c7-0a02-4489-eb97-56a47123d4a0"
      },
      "execution_count": null,
      "outputs": [
        {
          "output_type": "execute_result",
          "data": {
            "text/plain": [
              "array([[ 0.88389311,  0.19586502,  0.35753652, -2.34326191],\n",
              "       [-1.08483259,  0.55969629,  0.93946935, -0.97848104],\n",
              "       [ 0.50309684,  0.40641447,  0.32346101, -0.49341088],\n",
              "       [-0.79201679, -0.84236793, -1.27950266,  0.24571517],\n",
              "       [-0.0441948 ,  1.56763255,  1.05110868,  0.40636843]])"
            ]
          },
          "metadata": {},
          "execution_count": 9
        }
      ]
    },
    {
      "cell_type": "markdown",
      "source": [
        "### np.random.randn() with mean and sigma\n",
        "\n",
        "Set the random seed to 30. Then build a two-dimensional array with the shape _(5, 4)_ pseudo-random values generated from the normal distribution $ N (100, 5) $.\n",
        "$\\mu=100$   \n",
        "$\\sigma^{2}=5$\n",
        "\n",
        "__Expected result:__\n",
        "```\n",
        "array([[ 97.17349231, 103.41650023,  97.82942436, 101.05220329],\n",
        "       [ 99.7748353 , 100.67930221,  96.14063068, 103.544381  ],\n",
        "       [100.30029631,  97.52499594, 103.52901961, 100.24037271],\n",
        "       [ 98.29153712,  98.2666258 , 103.09437633, 101.70027274],\n",
        "       [ 99.36127721, 101.20382627,  95.34026547, 102.09694365]])\n",
        "```"
      ],
      "metadata": {
        "id": "SPO7NaidDjoY"
      }
    },
    {
      "cell_type": "code",
      "source": [
        "np.random.seed(30)\n",
        "\n",
        "sigma = np.sqrt(5)\n",
        "mu = 100\n",
        "\n",
        "sigma * np.random.randn(5, 4) + mu"
      ],
      "metadata": {
        "colab": {
          "base_uri": "https://localhost:8080/"
        },
        "id": "Y3IgAPeUDFqg",
        "outputId": "d20a5ad4-f695-44db-f318-2c24cf07f2ea"
      },
      "execution_count": null,
      "outputs": [
        {
          "output_type": "execute_result",
          "data": {
            "text/plain": [
              "array([[ 97.17349231, 103.41650023,  97.82942436, 101.05220329],\n",
              "       [ 99.7748353 , 100.67930221,  96.14063068, 103.544381  ],\n",
              "       [100.30029631,  97.52499594, 103.52901961, 100.24037271],\n",
              "       [ 98.29153712,  98.2666258 , 103.09437633, 101.70027274],\n",
              "       [ 99.36127721, 101.20382627,  95.34026547, 102.09694365]])"
            ]
          },
          "metadata": {},
          "execution_count": 10
        }
      ]
    },
    {
      "cell_type": "markdown",
      "source": [
        "### np.nditer()\n",
        "\n",
        "Efficient multi-dimensional iterator object to iterate over arrays.\n",
        "\n",
        "Iterating by array numpy $ A $ element by element (element-wise) print each element of the array to the console.\n",
        "\n",
        "```\n",
        "A = np.array([[1, 4, 3],\n",
        "              [5, 2, 6]])\n",
        "```"
      ],
      "metadata": {
        "id": "NyN-XQtwD_Qw"
      }
    },
    {
      "cell_type": "code",
      "source": [
        "A = np.array([[1, 4, 3],\n",
        "              [5, 2, 6]])\n",
        "\n",
        "for i in np.nditer(A):\n",
        "    print(i, end=\" \")"
      ],
      "metadata": {
        "colab": {
          "base_uri": "https://localhost:8080/"
        },
        "id": "S0aP5yejD1n7",
        "outputId": "eb2294b0-7efb-4e9e-d9ec-5538796c881a"
      },
      "execution_count": null,
      "outputs": [
        {
          "output_type": "stream",
          "name": "stdout",
          "text": [
            "1 4 3 5 2 6 "
          ]
        }
      ]
    },
    {
      "cell_type": "markdown",
      "source": [
        "### np.linspace()\n",
        "\n",
        "Returns num evenly spaced samples, calculated over the interval [start, stop].\n",
        "\n",
        "Create a one-dimensional numpy array (vector) consisting of 6 equally spaced points from the interval $ [0, 1]. $\n",
        "\n",
        "__Expected result:__\n",
        "```\n",
        "array([0. , 0.2, 0.4, 0.6, 0.8, 1. ])\n",
        "```"
      ],
      "metadata": {
        "id": "xu0N4h0JEpkz"
      }
    },
    {
      "cell_type": "code",
      "source": [
        "np.linspace(start=0, stop=1, num=6)"
      ],
      "metadata": {
        "colab": {
          "base_uri": "https://localhost:8080/"
        },
        "id": "U_neGVAXEboM",
        "outputId": "bc6125b6-b0da-4078-e2a9-4d19150e299f"
      },
      "execution_count": null,
      "outputs": [
        {
          "output_type": "execute_result",
          "data": {
            "text/plain": [
              "array([0. , 0.2, 0.4, 0.6, 0.8, 1. ])"
            ]
          },
          "metadata": {},
          "execution_count": 12
        }
      ]
    },
    {
      "cell_type": "markdown",
      "source": [
        "### np.random.randint()\n",
        "\n",
        "Return random integers from the “discrete uniform” distribution of the specified dtype in the “half-open” interval [low, high). If high is None (the default), then results are from [0, low).\n",
        "\n",
        "Set the random seed to 42. Generate a one-dimensional array (a 6-element vector) of values from 1 to 49 inclusive.\n",
        "\n",
        "__Expected result:__\n",
        "```\n",
        "array([39, 29, 15, 43,  8, 21])\n",
        "```"
      ],
      "metadata": {
        "id": "D9PaJkiIFQFP"
      }
    },
    {
      "cell_type": "code",
      "source": [
        "np.random.seed(42)\n",
        "np.random.randint(low=1, high=50, size=6)"
      ],
      "metadata": {
        "colab": {
          "base_uri": "https://localhost:8080/"
        },
        "id": "wSmQLm1uFFVv",
        "outputId": "797bcf9d-9e97-4618-faba-9a20f0b8266e"
      },
      "execution_count": null,
      "outputs": [
        {
          "output_type": "execute_result",
          "data": {
            "text/plain": [
              "array([39, 29, 15, 43,  8, 21])"
            ]
          },
          "metadata": {},
          "execution_count": 13
        }
      ]
    },
    {
      "cell_type": "markdown",
      "source": [
        "### np.diag()\n",
        "\n",
        "Extract a diagonal or construct a diagonal array.\n",
        "\n",
        "Build the two-dimensional _5x5_ size array below:\n",
        "\n",
        "```\n",
        "array([[0, 0, 0, 0, 0],\n",
        "       [0, 1, 0, 0, 0],\n",
        "       [0, 0, 2, 0, 0],\n",
        "       [0, 0, 0, 3, 0],\n",
        "       [0, 0, 0, 0, 4]])\n",
        "```"
      ],
      "metadata": {
        "id": "mV1Bsbk0GM0W"
      }
    },
    {
      "cell_type": "code",
      "source": [
        "# Solution 1\n",
        "np.diag(np.arange(5))"
      ],
      "metadata": {
        "colab": {
          "base_uri": "https://localhost:8080/"
        },
        "id": "AF54SSYqF_-x",
        "outputId": "80ee2e35-1c3c-4319-81d4-afda956c5794"
      },
      "execution_count": null,
      "outputs": [
        {
          "output_type": "execute_result",
          "data": {
            "text/plain": [
              "array([[0, 0, 0, 0, 0],\n",
              "       [0, 1, 0, 0, 0],\n",
              "       [0, 0, 2, 0, 0],\n",
              "       [0, 0, 0, 3, 0],\n",
              "       [0, 0, 0, 0, 4]])"
            ]
          },
          "metadata": {},
          "execution_count": 15
        }
      ]
    },
    {
      "cell_type": "code",
      "source": [
        "# Solution 2\n",
        "np.diag([0, 1, 2, 3, 4, 5])"
      ],
      "metadata": {
        "colab": {
          "base_uri": "https://localhost:8080/"
        },
        "id": "pIbNaGgkGbuF",
        "outputId": "9fe29c01-5ea3-4a5b-9adf-61df49788de4"
      },
      "execution_count": null,
      "outputs": [
        {
          "output_type": "execute_result",
          "data": {
            "text/plain": [
              "array([[0, 0, 0, 0, 0, 0],\n",
              "       [0, 1, 0, 0, 0, 0],\n",
              "       [0, 0, 2, 0, 0, 0],\n",
              "       [0, 0, 0, 3, 0, 0],\n",
              "       [0, 0, 0, 0, 4, 0],\n",
              "       [0, 0, 0, 0, 0, 5]])"
            ]
          },
          "metadata": {},
          "execution_count": 16
        }
      ]
    },
    {
      "cell_type": "code",
      "source": [],
      "metadata": {
        "id": "gsW6yL4TGh87"
      },
      "execution_count": null,
      "outputs": []
    }
  ]
}